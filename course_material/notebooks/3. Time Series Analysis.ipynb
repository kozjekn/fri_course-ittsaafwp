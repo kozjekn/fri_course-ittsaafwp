{
 "cells": [
  {
   "cell_type": "markdown",
   "id": "71f0cf90-36e3-417e-b052-41acd3edf39b",
   "metadata": {},
   "source": [
    "# Time series analysis \n",
    "\n",
    "Time series is a list of data points indexed in a time order. Pandas object DataFrame and Series are perfect for representing time series since you can assign a time-based index to values, which enables elegant and fast indexing and aggregating. \n",
    "\n",
    "In this notebook we will demonstrate:\n",
    "* basic pandas functions for working with time series\n",
    "* vizualizations of time series\n"
   ]
  },
  {
   "cell_type": "code",
   "execution_count": null,
   "id": "da2c3fc1-a934-4006-bc29-8b4eb4c046e8",
   "metadata": {
    "tags": []
   },
   "outputs": [],
   "source": [
    "import matplotlib.pyplot as plt\n",
    "import seaborn as sns\n",
    "\n",
    "import pandas as pd\n",
    "from pandas.plotting import lag_plot\n",
    "from pandas.plotting import autocorrelation_plot\n",
    "\n",
    "from statsmodels.graphics.tsaplots import plot_acf\n",
    "from statsmodels.graphics.tsaplots import plot_pacf\n",
    "from statsmodels.tsa.seasonal import seasonal_decompose"
   ]
  },
  {
   "cell_type": "markdown",
   "id": "580d3783-565f-4e19-922b-ea3198c2413e",
   "metadata": {},
   "source": [
    "### Loading data\n",
    "\n",
    "Loads data from .csv file and changes column date to datetime type. "
   ]
  },
  {
   "cell_type": "code",
   "execution_count": null,
   "id": "7b9b2841-0941-437c-a5c2-a1a34bcda054",
   "metadata": {
    "tags": []
   },
   "outputs": [],
   "source": [
    "df = pd.read_csv('../data/single_item_data.csv')\n",
    "df['date'] = pd.to_datetime(df['date'])\n",
    "df.head()"
   ]
  },
  {
   "cell_type": "code",
   "execution_count": null,
   "id": "2dc8bd43-00c2-408f-9e5c-b89ca2ca33b7",
   "metadata": {
    "tags": []
   },
   "outputs": [],
   "source": [
    "df_agg = df.groupby('date')['quantity'].sum()\n",
    "df_agg.head()"
   ]
  },
  {
   "cell_type": "markdown",
   "id": "48aca288-9432-4fb4-bc06-3989982449a6",
   "metadata": {},
   "source": [
    "### Time series in Pandas\n",
    "\n",
    "A series of a dataframe (could contain many time series) with a time-based index"
   ]
  },
  {
   "cell_type": "markdown",
   "id": "ff585c77-3d81-43c4-a2ce-811413b6e442",
   "metadata": {},
   "source": [
    "### Basic Time Series Plotting\n",
    "\n",
    "Looking at a graph of time series will help us understand it better. "
   ]
  },
  {
   "cell_type": "code",
   "execution_count": null,
   "id": "8d8a234e-dafe-4ee1-8ef6-f4892c3f4b6f",
   "metadata": {
    "tags": []
   },
   "outputs": [],
   "source": [
    "def ts_plot(ts):\n",
    "    f = plt.figure(figsize=(12,5))\n",
    "    ax = f.add_subplot(1,1,1)\n",
    "    if isinstance(ts, list):\n",
    "        for ti, t in enumerate(ts):\n",
    "            ax.plot(t, label=\"{}\".format(ti+1))\n",
    "        ax.legend()\n",
    "    else:\n",
    "        ax.plot(ts)\n",
    "    ax.grid(alpha=0.3)\n",
    "    ax.set_ylabel('quantity')  \n"
   ]
  },
  {
   "cell_type": "code",
   "execution_count": null,
   "id": "0bd93fbe-851d-4d63-96b4-507a431efdb5",
   "metadata": {
    "tags": []
   },
   "outputs": [],
   "source": [
    "ts_plot([df_agg])"
   ]
  },
  {
   "cell_type": "markdown",
   "id": "e4e03f1b-7f17-4d27-8024-824e65a436b4",
   "metadata": {},
   "source": [
    "### Date and Time in Pandas\n",
    "\n",
    "The Python standard library includes data types for date and time data, as well as calendar-related functionality. The **datetime.datetime** type, or simply datetime, is widely used. See [Basic date and time types](https://docs.python.org/2/library/datetime.html) for details."
   ]
  },
  {
   "cell_type": "code",
   "execution_count": null,
   "id": "242a27de-8f23-4a57-984e-ec96167d44be",
   "metadata": {
    "tags": []
   },
   "outputs": [],
   "source": [
    "from datetime import datetime\n",
    "from datetime import timedelta"
   ]
  },
  {
   "cell_type": "markdown",
   "id": "75dd9e2a-912f-46ca-940d-dcaaff3cea5a",
   "metadata": {},
   "source": [
    "Function **now()**"
   ]
  },
  {
   "cell_type": "code",
   "execution_count": null,
   "id": "0911496b-97da-4c39-aa72-9274e6142cdb",
   "metadata": {
    "tags": []
   },
   "outputs": [],
   "source": [
    "datetime.now()"
   ]
  },
  {
   "cell_type": "markdown",
   "id": "77ba4a40-0b51-4834-b52f-5017367dee68",
   "metadata": {
    "tags": []
   },
   "source": [
    "**datetime.timedelta** represents the temporal difference between two datetime objects."
   ]
  },
  {
   "cell_type": "code",
   "execution_count": null,
   "id": "b0757214-4c13-479a-a8ce-f10f6648d3cd",
   "metadata": {
    "tags": []
   },
   "outputs": [],
   "source": [
    "t1 = datetime.now()"
   ]
  },
  {
   "cell_type": "code",
   "execution_count": null,
   "id": "ddad0e9f-2cc8-4d59-93f3-0a170bc09cbe",
   "metadata": {
    "tags": []
   },
   "outputs": [],
   "source": [
    "t2 = datetime.now()"
   ]
  },
  {
   "cell_type": "code",
   "execution_count": null,
   "id": "9c7cfe6e-dae7-45d5-919f-59c801b92ee4",
   "metadata": {
    "tags": []
   },
   "outputs": [],
   "source": [
    "t2 - t1"
   ]
  },
  {
   "cell_type": "code",
   "execution_count": null,
   "id": "d092cf8a-3400-4cc2-bf4d-5b4c033ed262",
   "metadata": {
    "tags": []
   },
   "outputs": [],
   "source": [
    "t1 - timedelta(days=1000)"
   ]
  },
  {
   "cell_type": "markdown",
   "id": "c3a65b91-f260-44d3-b251-e348696c241b",
   "metadata": {},
   "source": [
    "<h4>Converting between string and datetime</h4>\n",
    "\n",
    "datetime objects can be formatted as strings using str or the strftime method, passing a format specification."
   ]
  },
  {
   "cell_type": "code",
   "execution_count": null,
   "id": "17b99393-5334-435f-8605-c2e66233e7ee",
   "metadata": {
    "tags": []
   },
   "outputs": [],
   "source": [
    "t1.strftime('%d.%m.%y')"
   ]
  },
  {
   "cell_type": "code",
   "execution_count": null,
   "id": "b8ed52f2-4a9f-44d4-ac42-6f27cf7248dd",
   "metadata": {
    "tags": []
   },
   "outputs": [],
   "source": [
    "(t1 - timedelta(days=1000)).strftime('%d.%m.%y')"
   ]
  },
  {
   "cell_type": "markdown",
   "id": "134d45c4-dd62-49d5-99d2-233f299b8798",
   "metadata": {},
   "source": [
    "See the table below for a list of popular format codes. These same format codes can be used to convert strings to dates.\n",
    "\n",
    "| type | description\n",
    "|------|---------------------------------------------------------\n",
    "| %Y   | 4-digit year\n",
    "| %y   | 2-digit year\n",
    "| %m   | 2-digit month [01, 12]\n",
    "| %d   | 2-digit day [01, 31]\n",
    "| %H   | Hour (24-hour clock) [00, 23]\n",
    "| %I   | Hour (12-hour clock) [01, 12]\n",
    "| %M   | 2-digit minute [00, 59]\n",
    "| %S   | Second [00, 61] (seconds 60, 61 account for leap seconds)\n",
    "| %w   | Weekday as integer [0 (Sunday), 6]"
   ]
  },
  {
   "cell_type": "markdown",
   "id": "c522bdf9-48cc-4dae-beb6-46aa107ce99a",
   "metadata": {},
   "source": [
    "Indexing time series"
   ]
  },
  {
   "cell_type": "code",
   "execution_count": null,
   "id": "fdd1e661-eb9b-4bce-9707-8210e1f92370",
   "metadata": {
    "tags": []
   },
   "outputs": [],
   "source": [
    "df_agg.loc['2013'].head()"
   ]
  },
  {
   "cell_type": "code",
   "execution_count": null,
   "id": "632618b2-ea71-4003-a26b-0ea929e7ea35",
   "metadata": {
    "tags": []
   },
   "outputs": [],
   "source": [
    "df_agg.loc['2013-05-04':'2013-05-12']"
   ]
  },
  {
   "cell_type": "markdown",
   "id": "b50a4701-de8e-4008-a803-1052ac7bbede",
   "metadata": {},
   "source": [
    "Use time delta to calculate relative dates"
   ]
  },
  {
   "cell_type": "code",
   "execution_count": null,
   "id": "67827ac8-3602-440c-bbef-4ea8b94804c8",
   "metadata": {
    "tags": []
   },
   "outputs": [],
   "source": [
    "tstart = df_agg.index.min()\n",
    "t = tstart + timedelta(days=100)\n",
    "df_agg.loc[t:t+timedelta(days=5)]"
   ]
  },
  {
   "cell_type": "markdown",
   "id": "3fdb5187-8c6a-46dd-be7d-cb769c129850",
   "metadata": {},
   "source": [
    "### Resampling data\n",
    "\n",
    "The method **resample** is a convenient method for frequency conversion and resampling of regular time-series data.\n",
    "\n",
    "The following <i>offset aliases</i> are given to useful common time series frequencies:\n",
    "\n",
    "<table align=left>\n",
    "<tr><td><b>name</b></td><td><b>description</b>                       </td>\n",
    "<tr><td>B       </td><td>business day frequency                       </td>\n",
    "<tr><td>C       </td><td>custom business day frequency (experimental) </td>\n",
    "<tr><td>D       </td><td>calendar day frequency                       </td>\n",
    "<tr><td>W       </td><td>weekly frequency                             </td>\n",
    "<tr><td>M       </td><td>month end frequency                          </td>\n",
    "<tr><td>BM      </td><td>business month end frequency                 </td>\n",
    "<tr><td>CBM     </td><td>custom business month end frequency          </td>\n",
    "<tr><td>MS      </td><td>month start frequency                        </td>\n",
    "<tr><td>BMS     </td><td>business month start frequency               </td>\n",
    "<tr><td>CBMS    </td><td>custom business month start frequency        </td>\n",
    "<tr><td>Q       </td><td>quarter end frequency                        </td>\n",
    "<tr><td>BQ      </td><td>business quarter endfrequency                </td>\n",
    "<tr><td>QS      </td><td>quarter start frequency                      </td>\n",
    "<tr><td>BQS     </td><td>business quarter start frequency             </td>\n",
    "<tr><td>A       </td><td>year end frequency                           </td>\n",
    "<tr><td>BA      </td><td>business year end frequency                  </td>\n",
    "<tr><td>AS      </td><td>year start frequency                         </td>\n",
    "<tr><td>BAS     </td><td>business year start frequency                </td>\n",
    "<tr><td>BH      </td><td>business hour frequency                      </td>\n",
    "<tr><td>H       </td><td>hourly frequency                             </td>\n",
    "<tr><td>T       </td><td>minutely frequency                           </td>\n",
    "<tr><td>S       </td><td>secondly frequency                           </td>\n",
    "<tr><td>L       </td><td>milliseonds                                  </td>\n",
    "<tr><td>U       </td><td>microseconds                                 </td>\n",
    "<tr><td>N       </td><td>nanoseconds                                  </td>\n",
    "</table>"
   ]
  },
  {
   "cell_type": "code",
   "execution_count": null,
   "id": "f41e75e5-b4d9-4caf-b958-be7e8dae7ed9",
   "metadata": {
    "tags": []
   },
   "outputs": [],
   "source": [
    "df_agg.resample('M').mean().head()"
   ]
  },
  {
   "cell_type": "code",
   "execution_count": null,
   "id": "1a0496a1-d2ed-4270-89a0-4c74d09cfcd9",
   "metadata": {
    "tags": []
   },
   "outputs": [],
   "source": [
    "df_agg.resample('M').sum().head()"
   ]
  },
  {
   "cell_type": "markdown",
   "id": "49da9656-0b85-48cb-a047-bac5c0ad68ae",
   "metadata": {},
   "source": [
    "### Rolling calculations\n",
    "\n",
    "For working with data, a number of windows functions are provided for computing common window or rolling statistics. Among these are count, sum, mean, median, correlation, variance, covariance, standard deviation, skewness, and kurtosis.\n",
    "\n",
    "Generally these methods all have the same interface. They all accept the following arguments:\n",
    "\n",
    "- **window**: size of moving window\n",
    "- **min_periods**: threshold of non-null data points to require"
   ]
  },
  {
   "cell_type": "code",
   "execution_count": null,
   "id": "7972c786-34ea-43da-a54d-78604777fd7b",
   "metadata": {
    "tags": []
   },
   "outputs": [],
   "source": [
    "ts_plot([df_agg.rolling(window=30).mean(), df_agg.resample('M').mean()])"
   ]
  },
  {
   "cell_type": "markdown",
   "id": "8a79f922-326a-40ce-83d6-7b9f76de5cd8",
   "metadata": {},
   "source": [
    "### Visualizations of Time Series"
   ]
  },
  {
   "cell_type": "markdown",
   "id": "f26d3a36-bf35-4b18-81a9-88bdb646a6d5",
   "metadata": {},
   "source": [
    "### Histogram and Density Plots\n",
    "\n",
    "Another important visualization is of the distribution of observations themselves. This means a plot of the values without the temporal ordering. Some linear time series forecasting methods assume a well-behaved distribution of observations (i.e. a bell curve or normal distribution). This can be explicitly checked using tools like statistical hypothesis tests. But plots can provide a useful first check of the distribution of observations both on raw observations and after any type of data transform has been performed."
   ]
  },
  {
   "cell_type": "code",
   "execution_count": null,
   "id": "a9ccd26c-2824-4cc0-bd0d-58607a7c69eb",
   "metadata": {
    "tags": []
   },
   "outputs": [],
   "source": [
    "df_agg.hist();"
   ]
  },
  {
   "cell_type": "code",
   "execution_count": null,
   "id": "6ae5ff61-b1d9-4765-9923-d397d1d50b8f",
   "metadata": {
    "tags": []
   },
   "outputs": [],
   "source": [
    "df_agg.plot(kind='kde');"
   ]
  },
  {
   "cell_type": "markdown",
   "id": "611caefa-c099-437b-a34f-8b8ef7ed3af3",
   "metadata": {},
   "source": [
    "### Box and Whisker Plots\n",
    "\n",
    "Histograms and density plots provide insight into the distribution of all observations, but we\n",
    "may be interested in the distribution of values by time interval. Another type of plot that is\n",
    "useful to summarize the distribution of observations is the box and whisker plot. This plot\n",
    "draws a box around the 25th and 75th percentiles of the data that captures the middle 50% of\n",
    "observations. A line is drawn at the 50th percentile (the median) and whiskers are drawn above\n",
    "and below the box to summarize the general extents of the observations. Dots are drawn for\n",
    "outliers outside the whiskers or extents of the data."
   ]
  },
  {
   "cell_type": "code",
   "execution_count": null,
   "id": "801b278b-f21c-4b06-8ef4-200ac351f63d",
   "metadata": {
    "tags": []
   },
   "outputs": [],
   "source": [
    "df_agg.to_frame().boxplot()"
   ]
  },
  {
   "cell_type": "markdown",
   "id": "7ca73264-339f-48f6-9e23-711c5dafc176",
   "metadata": {},
   "source": [
    "\n",
    "### Lag Scatter Plots\n",
    "\n",
    "Time series modeling assumes a relationship between an observation and the previous observation.\n",
    "Previous observations in a time series are called lags, with the observation at the previous time\n",
    "step called lag=1, the observation at two time steps ago lag=2, and so on. A useful type of plot\n",
    "to explore the relationship between each observation and a lag of that observation is called the\n",
    "scatter plot. Pandas has a built-in function for exactly this called the lag plot. It plots the observation at time t on the x-axis and the lag=1 observation (t-1) on the y-axis.\n",
    "\n",
    "* If the points cluster along a diagonal line from the bottom-left to the top-right of the plot,\n",
    "it suggests a positive correlation relationship.\n",
    "* If the points cluster along a diagonal line from the top-left to the bottom-right, it suggests\n",
    "a negative correlation relationship.\n",
    "* Either relationship is good as they can be modeled.\n",
    "\n",
    "More points tighter in to the diagonal line suggests a stronger relationship and more spread\n",
    "from the line suggests a weaker relationship. A ball in the middle or a spread across the plot\n",
    "suggests a weak or no relationship."
   ]
  },
  {
   "cell_type": "code",
   "execution_count": null,
   "id": "58691091-ac02-4336-9ca8-3205b5744ede",
   "metadata": {
    "tags": []
   },
   "outputs": [],
   "source": [
    "# create a lag scatter plot\n",
    "pd.plotting.lag_plot(df_agg);"
   ]
  },
  {
   "cell_type": "markdown",
   "id": "db9127f5-4078-4125-b013-8b6ca6750dff",
   "metadata": {},
   "source": [
    "### Autocorrelation Plots\n",
    "\n",
    "We can quantify the strength and type of relationship between observations and their lags. In statistics, this is called correlation, and when calculated against lag values in time series, it is called autocorrelation (self-correlation). A correlation value calculated between two groups of numbers, such as observations and their lag=1 values, results in a number between -1 and 1. The sign of this number indicates a negative or positive correlation respectively. A value close to zero suggests a weak correlation, whereas a value closer to -1 or 1 indicates a strong correlation.\n",
    "\n",
    "Correlation values, called correlation coeficients, can be calculated for each observation and different lag values. Once calculated, a plot can be created to help better understand how this relationship changes over the lag. This type of plot is called an **autocorrelation plot**.\n",
    "\n",
    "The Statsmodels library provides a version of the autocorrelation plot as a line plot that plots lags on the horizontal and the correlations on vertical axis:\n",
    "- **Autocorrelation Function (ACF)**: It is a measure of the correlation between the time series with their lagged version.\n",
    "- **Partial Autocorrelation Function (PACF)**: It measures the correlation between the time series with their lagged version (like ACF), but eliminating the variations already explained by the intervening comparisons."
   ]
  },
  {
   "cell_type": "code",
   "execution_count": null,
   "id": "f20fc415-9567-4700-9246-2812948c3bbc",
   "metadata": {
    "tags": []
   },
   "outputs": [],
   "source": [
    "# Autocorrelation plot from pandas\n",
    "ax = autocorrelation_plot(df_agg)  # pass subseries of the original series\n",
    "ax.set_xlim([0, 50])                 # limit x-axis to make it more readable"
   ]
  },
  {
   "cell_type": "code",
   "execution_count": null,
   "id": "147ccc4b-f598-424f-8de3-be11b83076ef",
   "metadata": {
    "tags": []
   },
   "outputs": [],
   "source": [
    "# Autocorrelation Function (ACF)\n",
    "plot_acf(df_agg, lags=30);"
   ]
  },
  {
   "cell_type": "markdown",
   "id": "586136fe-d480-4110-8548-ee5035715066",
   "metadata": {},
   "source": [
    "- Autocorrelation represents the degree of similarity between a given time series and a lagged version of itself over successive time intervals.\n",
    "- Autocorrelation measures the relationship between a variable's current value and its past values.\n",
    "- An autocorrelation of +1 represents a perfect positive correlation, while an autocorrelation of negative 1 represents a perfect negative correlation."
   ]
  },
  {
   "cell_type": "code",
   "execution_count": null,
   "id": "83a724fd-092a-496c-b860-ed3d60e9fdd7",
   "metadata": {
    "tags": []
   },
   "outputs": [],
   "source": [
    "# Partial Autocorrelation Function (PACF)\n",
    "plot_pacf(df_agg, lags=30);"
   ]
  },
  {
   "cell_type": "code",
   "execution_count": null,
   "id": "238a92be-9f4e-4107-b190-83bb12609dcc",
   "metadata": {},
   "outputs": [],
   "source": []
  }
 ],
 "metadata": {
  "kernelspec": {
   "display_name": "Python 3 (ipykernel)",
   "language": "python",
   "name": "python3"
  },
  "language_info": {
   "codemirror_mode": {
    "name": "ipython",
    "version": 3
   },
   "file_extension": ".py",
   "mimetype": "text/x-python",
   "name": "python",
   "nbconvert_exporter": "python",
   "pygments_lexer": "ipython3",
   "version": "3.11.3"
  }
 },
 "nbformat": 4,
 "nbformat_minor": 5
}
