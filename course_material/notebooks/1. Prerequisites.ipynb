{
 "cells": [
  {
   "cell_type": "markdown",
   "metadata": {},
   "source": [
    "# Prerequisites\n",
    "\n",
    "We will use standard tools in the Python data science ecosystem. \n",
    "\n",
    "Execute the following cells to get the last versions of libraries. "
   ]
  },
  {
   "cell_type": "markdown",
   "metadata": {},
   "source": [
    "Use the option `--upgrade` (after the keyword `install`) if you have outdated libraries."
   ]
  },
  {
   "cell_type": "code",
   "execution_count": null,
   "metadata": {},
   "outputs": [],
   "source": [
    "import sys\n",
    "!{sys.executable} -m pip install --upgrade pandas\n",
    "!{sys.executable} -m pip install --upgrade numpy\n",
    "!{sys.executable} -m pip install --upgrade matplotlib\n",
    "!{sys.executable} -m pip install --upgrade seaborn\n",
    "!{sys.executable} -m pip install --upgrade statsmodels\n",
    "!{sys.executable} -m pip install --upgrade scikit-learn\n",
    "!{sys.executable} -m pip install --upgrade pmdarima\n",
    "!{sys.executable} -m pip install --upgrade prophet\n",
    "!{sys.executable} -m pip install --upgrade plotly"
   ]
  },
  {
   "cell_type": "code",
   "execution_count": null,
   "metadata": {},
   "outputs": [],
   "source": [
    "import pandas\n",
    "import numpy\n",
    "import matplotlib\n",
    "import seaborn\n",
    "import statsmodels\n",
    "import sklearn\n",
    "import prophet\n",
    "import plotly"
   ]
  },
  {
   "cell_type": "code",
   "execution_count": null,
   "metadata": {},
   "outputs": [],
   "source": [
    "# check the versions of key python libraries\n",
    "print('python: %s' % sys.version)\n",
    "print('pandas: %s' % pandas.__version__)\n",
    "print('numpy: %s' % numpy.__version__)\n",
    "print('matplotlib: %s' % matplotlib.__version__)\n",
    "print('seaborn: %s' % seaborn.__version__)\n",
    "print('statsmodels: %s' % statsmodels.__version__)\n",
    "print('sklearn: %s' % sklearn.__version__)\n",
    "print('prophet: %s' % prophet.__version__)\n",
    "print('plotly: %s' % plotly.__version__)"
   ]
  },
  {
   "cell_type": "code",
   "execution_count": null,
   "metadata": {},
   "outputs": [],
   "source": []
  }
 ],
 "metadata": {
  "kernelspec": {
   "display_name": "Python 3 (ipykernel)",
   "language": "python",
   "name": "python3"
  },
  "language_info": {
   "codemirror_mode": {
    "name": "ipython",
    "version": 3
   },
   "file_extension": ".py",
   "mimetype": "text/x-python",
   "name": "python",
   "nbconvert_exporter": "python",
   "pygments_lexer": "ipython3",
   "version": "3.11.3"
  }
 },
 "nbformat": 4,
 "nbformat_minor": 4
}
